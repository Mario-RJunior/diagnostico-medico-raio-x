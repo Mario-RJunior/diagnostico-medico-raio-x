{
  "nbformat": 4,
  "nbformat_minor": 0,
  "metadata": {
    "colab": {
      "name": "departamento_medico.ipynb",
      "provenance": [],
      "authorship_tag": "ABX9TyNx/qPLF8QwGExMQebGn2k3",
      "include_colab_link": true
    },
    "kernelspec": {
      "name": "python3",
      "display_name": "Python 3"
    }
  },
  "cells": [
    {
      "cell_type": "markdown",
      "metadata": {
        "id": "view-in-github",
        "colab_type": "text"
      },
      "source": [
        "<a href=\"https://colab.research.google.com/github/Mario-RJunior/diagnostico-medico-raio-x/blob/main/departamento_medico.ipynb\" target=\"_parent\"><img src=\"https://colab.research.google.com/assets/colab-badge.svg\" alt=\"Open In Colab\"/></a>"
      ]
    },
    {
      "cell_type": "markdown",
      "metadata": {
        "id": "O6g-RdLH36Es"
      },
      "source": [
        "# Departamento médico"
      ]
    },
    {
      "cell_type": "markdown",
      "metadata": {
        "id": "JMD1tKQH4Atv"
      },
      "source": [
        "## Importação das bibliotecas e base de dados"
      ]
    },
    {
      "cell_type": "code",
      "metadata": {
        "id": "_H1yIkwc3tWn"
      },
      "source": [
        "# Importado as bibliotecas\n",
        "import os\n",
        "import cv2\n",
        "import tensorflow as tf\n",
        "import numpy as np\n",
        "from tensorflow.keras import layers, optimizers\n",
        "from tensorflow.keras.applications import ResNet50\n",
        "from tensorflow.keras.layers import Input, Dense, AveragePooling2D, Dropout, Flatten\n",
        "from tensorflow.keras.models import Model\n",
        "from tensorflow.keras.preprocessing.image import ImageDataGenerator\n",
        "from tensorflow.keras.callbacks import ModelCheckpoint\n",
        "import matplotlib.pyplot as plt\n",
        "import seaborn as sns"
      ],
      "execution_count": 1,
      "outputs": []
    },
    {
      "cell_type": "code",
      "metadata": {
        "id": "kJ4I4SXZ45hr",
        "outputId": "33f49d50-00f9-49a8-b069-f7c299ead469",
        "colab": {
          "base_uri": "https://localhost:8080/"
        }
      },
      "source": [
        "# Acessando os arquivos pelo Google drive\n",
        "from google.colab import drive\n",
        "drive.mount('/content/drive')"
      ],
      "execution_count": 2,
      "outputs": [
        {
          "output_type": "stream",
          "text": [
            "Mounted at /content/drive\n"
          ],
          "name": "stdout"
        }
      ]
    },
    {
      "cell_type": "code",
      "metadata": {
        "id": "3t8uQVeW6mWu"
      },
      "source": [
        "# Criando o caminho até as imagens\n",
        "xray_directory = '/content/drive/My Drive/Departamento médico/Dataset/'"
      ],
      "execution_count": 5,
      "outputs": []
    },
    {
      "cell_type": "code",
      "metadata": {
        "id": "g0Ck6E6sezBe",
        "outputId": "8b65296b-4261-4b16-f89a-bc07ab616862",
        "colab": {
          "base_uri": "https://localhost:8080/"
        }
      },
      "source": [
        "# Verificando a presença das imagens no caminho acima\n",
        "os.listdir(xray_directory)"
      ],
      "execution_count": 6,
      "outputs": [
        {
          "output_type": "execute_result",
          "data": {
            "text/plain": [
              "['.DS_Store', '0', '1', '2', '3']"
            ]
          },
          "metadata": {
            "tags": []
          },
          "execution_count": 6
        }
      ]
    },
    {
      "cell_type": "code",
      "metadata": {
        "id": "iqzHpSkVfB-O"
      },
      "source": [
        "# Acessando as imagens\n",
        "image_generator = ImageDataGenerator(rescale=1./225)"
      ],
      "execution_count": 7,
      "outputs": []
    },
    {
      "cell_type": "code",
      "metadata": {
        "id": "b924uiR0fgFr",
        "outputId": "9cf0cb9c-cc55-4390-92dc-7a78c44b0624",
        "colab": {
          "base_uri": "https://localhost:8080/"
        }
      },
      "source": [
        "# Buscando as imagens de treinamento\n",
        "train_generator = image_generator.flow_from_directory(batch_size=40,\n",
        "                                                      directory=xray_directory,\n",
        "                                                      shuffle=True,\n",
        "                                                      target_size=(256,256),\n",
        "                                                      class_mode='categorical',\n",
        "                                                      subset='training')"
      ],
      "execution_count": 8,
      "outputs": [
        {
          "output_type": "stream",
          "text": [
            "Found 532 images belonging to 4 classes.\n"
          ],
          "name": "stdout"
        }
      ]
    },
    {
      "cell_type": "code",
      "metadata": {
        "id": "VU0lYvoIf-vb"
      },
      "source": [
        "# Variáveis para teste\n",
        "train_images, train_labels = next(train_generator)"
      ],
      "execution_count": 9,
      "outputs": []
    },
    {
      "cell_type": "code",
      "metadata": {
        "id": "PQSaVPuTgy9K",
        "outputId": "a315a85f-6896-4dc8-c36d-9dcba9cabe17",
        "colab": {
          "base_uri": "https://localhost:8080/"
        }
      },
      "source": [
        "train_images.shape"
      ],
      "execution_count": 10,
      "outputs": [
        {
          "output_type": "execute_result",
          "data": {
            "text/plain": [
              "(40, 256, 256, 3)"
            ]
          },
          "metadata": {
            "tags": []
          },
          "execution_count": 10
        }
      ]
    },
    {
      "cell_type": "code",
      "metadata": {
        "id": "_9TrGNq7g0vp"
      },
      "source": [
        ""
      ],
      "execution_count": null,
      "outputs": []
    }
  ]
}